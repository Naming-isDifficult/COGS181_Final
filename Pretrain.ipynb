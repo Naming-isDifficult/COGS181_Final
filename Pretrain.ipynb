{
 "cells": [
  {
   "cell_type": "code",
   "execution_count": 1,
   "id": "c9041c37",
   "metadata": {},
   "outputs": [],
   "source": [
    "from Model.UNet import UNet\n",
    "import torch\n",
    "from DataPipeline import ImageDataSet"
   ]
  },
  {
   "cell_type": "code",
   "execution_count": 2,
   "id": "95603df5",
   "metadata": {},
   "outputs": [],
   "source": [
    "#set all parameters needed\n",
    "input_channel = 3\n",
    "device = torch.device(\"cuda\" if torch.cuda.is_available()\\\n",
    "                                       else \"cpu\")\n",
    "data_folder = 'Data/Content'\n",
    "batch_size = 1 #recommend 1 unless all of the images have the same size\n",
    "learning_rate = 0.001\n",
    "has_bn = False\n",
    "prev_weights = 'Pretrain_UNet.weights'\n",
    "epoch = 100\n",
    "model_dir = None #the folder to save model weights, leave it None to use\n",
    "                 #default value\n",
    "steps_to_save = 1000 #store the model every xxx steps\n",
    "maximum_model = 5 #maximum model saved"
   ]
  },
  {
   "attachments": {},
   "cell_type": "markdown",
   "id": "917fe34c",
   "metadata": {},
   "source": [
    "## Training"
   ]
  },
  {
   "cell_type": "code",
   "execution_count": 3,
   "id": "b8e07446",
   "metadata": {},
   "outputs": [],
   "source": [
    "#create dataset\n",
    "dataset = ImageDataSet.ImageDataSet('Data/Content', device)\n",
    "\n",
    "#create application model\n",
    "net = UNet(input_channel, device, dataset, batch_size,\\\n",
    "           learning_rate, has_bn, prev_weights)"
   ]
  },
  {
   "cell_type": "code",
   "execution_count": 4,
   "id": "68d157f8",
   "metadata": {},
   "outputs": [],
   "source": [
    "net.train(epoch, model_dir, steps_to_save, maximum_model)"
   ]
  },
  {
   "attachments": {},
   "cell_type": "markdown",
   "id": "7e5ad0c3",
   "metadata": {},
   "source": [
    "## Generating"
   ]
  },
  {
   "cell_type": "code",
   "execution_count": 5,
   "id": "5bf2448c",
   "metadata": {},
   "outputs": [],
   "source": [
    "#create application model\n",
    "net = UNet(input_channel, device, None, batch_size,\\\n",
    "           learning_rate, has_bn, prev_weights)"
   ]
  },
  {
   "cell_type": "code",
   "execution_count": 7,
   "id": "464287c7",
   "metadata": {},
   "outputs": [],
   "source": [
    "#get your data, make sure it has shape [C, H, W] or [B,C,H,W]\n",
    "input_ = None"
   ]
  },
  {
   "cell_type": "code",
   "execution_count": 9,
   "id": "e48d99b0",
   "metadata": {},
   "outputs": [],
   "source": [
    "#get output\n",
    "out = net.pred()"
   ]
  },
  {
   "cell_type": "code",
   "execution_count": 7,
   "id": "203806cf",
   "metadata": {},
   "outputs": [],
   "source": [
    "import matplotlib.pyplot as plt\n",
    "plt.imshow(out)"
   ]
  }
 ],
 "metadata": {
  "kernelspec": {
   "display_name": "Python 3 (ipykernel)",
   "language": "python",
   "name": "python3"
  },
  "language_info": {
   "codemirror_mode": {
    "name": "ipython",
    "version": 3
   },
   "file_extension": ".py",
   "mimetype": "text/x-python",
   "name": "python",
   "nbconvert_exporter": "python",
   "pygments_lexer": "ipython3",
   "version": "3.8.13"
  }
 },
 "nbformat": 4,
 "nbformat_minor": 5
}
