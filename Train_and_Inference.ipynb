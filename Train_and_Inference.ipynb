{
 "cells": [
  {
   "cell_type": "code",
   "execution_count": null,
   "id": "c9041c37",
   "metadata": {},
   "outputs": [],
   "source": [
    "from Model.UAdaIN import UAdaIN\n",
    "import torch\n",
    "from DataPipeline.ContentStyleDataSet import ContentStyleDataSet"
   ]
  },
  {
   "cell_type": "code",
   "execution_count": null,
   "id": "95603df5",
   "metadata": {},
   "outputs": [],
   "source": [
    "#set all parameters needed\n",
    "input_channel = 3\n",
    "device = torch.device(\"cuda:1\" if torch.cuda.is_available()\\\n",
    "                                       else \"cpu\")\n",
    "c_folder = 'Data/Content'\n",
    "s_folder = 'Data/Style'\n",
    "batch_size = 1 #recommend 1 unless all of the images have the same size\n",
    "learning_rate = 0.001\n",
    "has_bn = False\n",
    "prev_weights = None\n",
    "sc_adain = True\n",
    "num_sc = 2\n",
    "alpha = 0.5\n",
    "epoch = 10\n",
    "model_dir = None #the folder to save model weights, leave it None to use\n",
    "                 #default value\n",
    "steps_to_save = 1000 #store the model every xxx steps\n",
    "maximum_model = 10 #maximum model saved\n",
    "display = True\n",
    "pretrain = True"
   ]
  },
  {
   "cell_type": "markdown",
   "id": "917fe34c",
   "metadata": {},
   "source": [
    "## Training"
   ]
  },
  {
   "cell_type": "code",
   "execution_count": null,
   "id": "b8e07446",
   "metadata": {},
   "outputs": [],
   "source": [
    "#create dataset\n",
    "dataset = ContentStyleDataSet(c_folder, s_folder, device)\n",
    "\n",
    "#create application model\n",
    "net = UAdaIN(input_channel, device, dataset, batch_size,\\\n",
    "             learning_rate, has_bn, sc_adain, num_sc,\\\n",
    "             alpha, prev_weights, pretrain)"
   ]
  },
  {
   "cell_type": "code",
   "execution_count": null,
   "id": "68d157f8",
   "metadata": {
    "scrolled": true
   },
   "outputs": [],
   "source": [
    "net.train(epoch, model_dir, steps_to_save, maximum_model, display)"
   ]
  },
  {
   "cell_type": "markdown",
   "id": "7e5ad0c3",
   "metadata": {},
   "source": [
    "## Inference"
   ]
  },
  {
   "cell_type": "code",
   "execution_count": null,
   "id": "464287c7",
   "metadata": {},
   "outputs": [],
   "source": [
    "#get your data, make sure it has shape [C, H, W] or [B,C,H,W]\n",
    "c, s = dataset[1208]"
   ]
  },
  {
   "cell_type": "code",
   "execution_count": null,
   "id": "e48d99b0",
   "metadata": {},
   "outputs": [],
   "source": [
    "#get output\n",
    "out = net.pred(c,s)"
   ]
  },
  {
   "cell_type": "code",
   "execution_count": null,
   "id": "203806cf",
   "metadata": {},
   "outputs": [],
   "source": [
    "import matplotlib.pyplot as plt\n",
    "plt.imshow(out)"
   ]
  },
  {
   "cell_type": "code",
   "execution_count": null,
   "id": "d9eb76ed",
   "metadata": {},
   "outputs": [],
   "source": [
    "c_o = c.detach().cpu().squeeze().permute((1,2,0)).numpy()\n",
    "plt.imshow(c_o)"
   ]
  },
  {
   "cell_type": "code",
   "execution_count": null,
   "id": "f3ad0fab",
   "metadata": {},
   "outputs": [],
   "source": [
    "s_o = s.detach().cpu().squeeze().permute((1,2,0)).numpy()\n",
    "plt.imshow(s_o)"
   ]
  },
  {
   "cell_type": "code",
   "execution_count": null,
   "id": "c3829071",
   "metadata": {},
   "outputs": [],
   "source": [
    "net.save_model(r'SavedModel\\UAdaIN_Model_2023-03-08', 0, 100, 1, 5)"
   ]
  },
  {
   "cell_type": "code",
   "execution_count": null,
   "id": "153d896d",
   "metadata": {},
   "outputs": [],
   "source": [
    "torch.cuda.empty_cache()"
   ]
  },
  {
   "cell_type": "code",
   "execution_count": null,
   "id": "9baf7bc0",
   "metadata": {},
   "outputs": [],
   "source": []
  }
 ],
 "metadata": {
  "kernelspec": {
   "display_name": "Python 3 (ipykernel)",
   "language": "python",
   "name": "python3"
  },
  "language_info": {
   "codemirror_mode": {
    "name": "ipython",
    "version": 3
   },
   "file_extension": ".py",
   "mimetype": "text/x-python",
   "name": "python",
   "nbconvert_exporter": "python",
   "pygments_lexer": "ipython3",
   "version": "3.8.16"
  }
 },
 "nbformat": 4,
 "nbformat_minor": 5
}
